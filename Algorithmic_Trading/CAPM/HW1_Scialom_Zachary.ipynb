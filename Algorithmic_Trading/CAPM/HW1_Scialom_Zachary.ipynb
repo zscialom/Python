{
 "cells": [
  {
   "cell_type": "code",
   "execution_count": 306,
   "metadata": {},
   "outputs": [],
   "source": [
    "import pandas as pd\n",
    "import numpy as np \n",
    "import csv\n",
    "import matplotlib.pyplot as plt\n",
    "import math\n",
    "import yfinance as yf\n",
    "import scipy.optimize\n",
    "from scipy import stats\n"
   ]
  },
  {
   "cell_type": "code",
   "execution_count": 307,
   "outputs": [
    {
     "name": "stdout",
     "output_type": "stream",
     "text": [
      "[*********************100%***********************]  30 of 30 completed\n"
     ]
    }
   ],
   "source": [
    "#read list of tickers from a csv file and print them out\n",
    "tickers_file = 'TechTickers_2.csv'\n",
    "tickers = []\n",
    "f = open(tickers_file,\"r\",encoding='utf-8-sig')\n",
    "for line in csv.reader(f):\n",
    "    tickers.append(str(line[0]))\n",
    "f.close\n",
    "tickers_str = tickers[0]\n",
    "for s in tickers[1:]: tickers_str=tickers_str+\", \"+s\n",
    "start_date = '2014-01-01'\n",
    "end_date = '2022-01-01'\n",
    "stock_data = yf.download(tickers_str, start_date, end_date)\n",
    "#print(stock_data.head(10))\n",
    "#print(len(stock_data))"
   ],
   "metadata": {
    "collapsed": false,
    "pycharm": {
     "name": "#%%\n"
    }
   }
  },
  {
   "cell_type": "code",
   "execution_count": 308,
   "outputs": [
    {
     "name": "stdout",
     "output_type": "stream",
     "text": [
      "30\n",
      "['AAPL', 'MSFT', 'INTC', 'CSCO', 'ADBE', 'NVDA', 'ASML', 'TXN', 'INTU', 'AMAT', 'ADI', 'LRCX', 'CTSH', 'KLAC', 'MCHP', 'XLNX', 'VRSN', 'ANSS', 'SNPS', 'SWKS', 'CDNS', 'FTNT', 'CHKP', 'STX', 'SSNC', 'CTXS', 'AKAM', 'NTAP', 'OTEX', 'JKHY']\n",
      "[*********************100%***********************]  30 of 30 completed\n"
     ]
    }
   ],
   "source": [
    "# Looks like SNE and MXIM do not display values entirely, then we remove it from the data\n",
    "stockArray = []\n",
    "for ticker in tickers:\n",
    "    stockArray.append(list(stock_data['Adj Close'][ticker]))\n",
    "stockArray=np.array(stockArray)\n",
    "tickers_liq = []\n",
    "for i in range(len(tickers)):\n",
    "    temp=0\n",
    "    for j in range(len(stockArray[i,:])):\n",
    "        if math.isnan(stockArray[i,j]):\n",
    "            temp=1\n",
    "    if (temp==0):\n",
    "        tickers_liq.append(tickers[i])\n",
    "print(len(tickers_liq))\n",
    "print(tickers_liq)\n",
    "stock_data = yf.download(tickers_liq, start_date, end_date)"
   ],
   "metadata": {
    "collapsed": false,
    "pycharm": {
     "name": "#%%\n"
    }
   }
  },
  {
   "cell_type": "code",
   "execution_count": 309,
   "outputs": [
    {
     "name": "stdout",
     "output_type": "stream",
     "text": [
      "[0.32714688 0.32545793 0.22551466 0.1661713  0.35796316 0.22821821\n",
      " 0.33010827 0.36315891 0.09958138 0.19231401 0.11999506 0.12307364\n",
      " 0.43144896 0.16072588 0.3129759  0.16617838 0.35193887 0.40950979\n",
      " 0.25226071 0.32641943 0.18396524 0.63515064 0.14157472 0.30754092\n",
      " 0.21307612 0.21696512 0.3025405  0.24684839 0.21097283 0.26757319]\n",
      "\n",
      "[[0.07888221 0.04827682 0.04601491 0.03116738 0.05621217 0.04423491\n",
      "  0.04806014 0.04476253 0.02596318 0.03709856 0.03581336 0.02943104\n",
      "  0.04497438 0.04361556 0.04418863 0.02542603 0.05449151 0.05885149\n",
      "  0.05313929 0.04757556 0.04089114 0.06318825 0.03134421 0.04182683\n",
      "  0.03767239 0.04004112 0.06477847 0.04469758 0.03452718 0.04345159]\n",
      " [0.04827682 0.09011503 0.05006363 0.03983992 0.06077518 0.05603833\n",
      "  0.05412594 0.05625823 0.03400288 0.03870892 0.04092095 0.0373112\n",
      "  0.0611295  0.04617751 0.05598793 0.03120132 0.0571721  0.05975297\n",
      "  0.05580626 0.05612814 0.04076612 0.0728192  0.03812712 0.05330821\n",
      "  0.04748003 0.03840437 0.0574995  0.04726637 0.04382354 0.05273604]\n",
      " [0.04601491 0.05006363 0.08979468 0.03167934 0.07991227 0.04857129\n",
      "  0.06355879 0.05169073 0.02884352 0.03961796 0.04334152 0.02814549\n",
      "  0.05093465 0.05555048 0.04598918 0.02781109 0.07406698 0.08098829\n",
      "  0.08386011 0.0449258  0.04543493 0.07692296 0.03365214 0.04666031\n",
      "  0.04573639 0.05146677 0.08089031 0.06646827 0.03781563 0.06780621]\n",
      " [0.03116738 0.03983992 0.03167934 0.10365115 0.03995386 0.03637328\n",
      "  0.03491082 0.03679629 0.0238854  0.03384383 0.02950776 0.03336484\n",
      "  0.04329201 0.0342753  0.03709983 0.02625128 0.03900152 0.03951649\n",
      "  0.03691254 0.03595275 0.03774644 0.04741208 0.02928761 0.03584193\n",
      "  0.02991265 0.04169069 0.04147864 0.03405527 0.03421858 0.03532489]\n",
      " [0.05621217 0.06077518 0.07991227 0.03995386 0.14062845 0.05983712\n",
      "  0.08744733 0.06557352 0.03412265 0.04660674 0.0495072  0.0355473\n",
      "  0.0598776  0.06975656 0.05662564 0.03168599 0.10654994 0.12401321\n",
      "  0.097089   0.05651585 0.060217   0.09650212 0.04306594 0.05922712\n",
      "  0.05203964 0.06563279 0.09375364 0.07440688 0.04581358 0.0802604 ]\n",
      " [0.04423491 0.05603833 0.04857129 0.03637328 0.05983712 0.07404904\n",
      "  0.04966737 0.05358447 0.03144046 0.03587436 0.04019438 0.03457477\n",
      "  0.05062856 0.04543467 0.05093188 0.02978488 0.05714183 0.05980883\n",
      "  0.05632258 0.04737599 0.04129934 0.06563254 0.03595909 0.05115923\n",
      "  0.04333436 0.03858528 0.05676927 0.04677052 0.04127028 0.04942686]\n",
      " [0.04806014 0.05412594 0.06355879 0.03491082 0.08744733 0.04966737\n",
      "  0.10551473 0.05662429 0.02890188 0.0373056  0.03976402 0.02900198\n",
      "  0.0536923  0.05469844 0.04810049 0.02605216 0.07972717 0.08890322\n",
      "  0.07641426 0.04757028 0.04606996 0.07913297 0.03601303 0.05015553\n",
      "  0.0458186  0.0507022  0.07692334 0.05908985 0.03853498 0.06289162]\n",
      " [0.04476253 0.05625823 0.05169073 0.03679629 0.06557352 0.05358447\n",
      "  0.05662429 0.08379838 0.03042148 0.03555429 0.03849384 0.03225227\n",
      "  0.05471352 0.0458904  0.05189395 0.0289874  0.06313073 0.06738079\n",
      "  0.05945704 0.04778581 0.0390063  0.07078703 0.03539703 0.06063157\n",
      "  0.04266983 0.03959386 0.06090571 0.04899345 0.04157972 0.05462441]\n",
      " [0.02596318 0.03400288 0.02884352 0.0238854  0.03412265 0.03144046\n",
      "  0.02890188 0.03042148 0.05163    0.02482212 0.02805523 0.02415977\n",
      "  0.03876861 0.02656577 0.02963103 0.0196708  0.03502437 0.03630924\n",
      "  0.03121228 0.028539   0.02726356 0.03751898 0.02195835 0.02801136\n",
      "  0.02776305 0.02362747 0.03371137 0.02656254 0.02630328 0.02748209]\n",
      " [0.03709856 0.03870892 0.03961796 0.03384383 0.04660674 0.03587436\n",
      "  0.0373056  0.03555429 0.02482212 0.06134771 0.03495671 0.02729929\n",
      "  0.0405188  0.04280323 0.03807468 0.02535272 0.04448618 0.04692714\n",
      "  0.04613481 0.0393672  0.04256831 0.04933336 0.02857973 0.03474188\n",
      "  0.03375737 0.04160905 0.04588668 0.03963312 0.03099732 0.03857455]\n",
      " [0.03581336 0.04092095 0.04334152 0.02950776 0.0495072  0.04019438\n",
      "  0.03976402 0.03849384 0.02805523 0.03495671 0.08031847 0.02527917\n",
      "  0.0372616  0.03849769 0.04277088 0.02867958 0.0473528  0.05147175\n",
      "  0.0508334  0.03891782 0.03859442 0.04860616 0.03297866 0.03594498\n",
      "  0.04175247 0.03915089 0.05227014 0.04143478 0.03437929 0.04077738]\n",
      " [0.02943104 0.0373112  0.02814549 0.03336484 0.0355473  0.03457477\n",
      "  0.02900198 0.03225227 0.02415977 0.02729929 0.02527917 0.07615794\n",
      "  0.0382267  0.03036314 0.03257989 0.02220215 0.03374615 0.03772337\n",
      "  0.03177992 0.03301777 0.0288932  0.03950468 0.02407892 0.03090632\n",
      "  0.02631471 0.03226891 0.03665765 0.03046576 0.02824856 0.02863084]\n",
      " [0.04497438 0.0611295  0.05093465 0.04329201 0.0598776  0.05062856\n",
      "  0.0536923  0.05471352 0.03876861 0.0405188  0.0372616  0.0382267\n",
      "  0.13272447 0.04206187 0.05192592 0.03016771 0.05497089 0.06007574\n",
      "  0.05773657 0.04627418 0.0425341  0.07377123 0.03788343 0.05143378\n",
      "  0.04953889 0.04000065 0.06401394 0.04564139 0.03794974 0.05171111]\n",
      " [0.04361556 0.04617751 0.05555048 0.0342753  0.06975656 0.04543467\n",
      "  0.05469844 0.0458904  0.02656577 0.04280323 0.03849769 0.03036314\n",
      "  0.04206187 0.0943017  0.04421993 0.02640705 0.06406765 0.06811971\n",
      "  0.06738096 0.04812156 0.04584824 0.06738955 0.03306413 0.04239904\n",
      "  0.03693979 0.05225092 0.06403239 0.05602561 0.03541613 0.054317  ]\n",
      " [0.04418863 0.05598793 0.04598918 0.03709983 0.05662564 0.05093188\n",
      "  0.04810049 0.05189395 0.02963103 0.03807468 0.04277088 0.03257989\n",
      "  0.05192592 0.04421993 0.07704954 0.03219539 0.05726268 0.0595382\n",
      "  0.0525961  0.04956291 0.03957346 0.06565024 0.03531087 0.05033768\n",
      "  0.04223521 0.03964755 0.05453608 0.04439104 0.04260079 0.04745754]\n",
      " [0.02542603 0.03120132 0.02781109 0.02625128 0.03168599 0.02978488\n",
      "  0.02605216 0.0289874  0.0196708  0.02535272 0.02867958 0.02220215\n",
      "  0.03016771 0.02640705 0.03219539 0.04554381 0.03155387 0.03381914\n",
      "  0.03014377 0.02867415 0.02652624 0.03737751 0.02203376 0.02774645\n",
      "  0.0290047  0.02473885 0.03190455 0.02806884 0.02657189 0.02487508]\n",
      " [0.05449151 0.0571721  0.07406698 0.03900152 0.10654994 0.05714183\n",
      "  0.07972717 0.06313073 0.03502437 0.04448618 0.0473528  0.03374615\n",
      "  0.05497089 0.06406765 0.05726268 0.03155387 0.12597521 0.11195166\n",
      "  0.08816328 0.05363927 0.05620191 0.08737843 0.04043345 0.05668428\n",
      "  0.04795923 0.05822591 0.08390243 0.06901706 0.04387256 0.07476734]\n",
      " [0.05885149 0.05975297 0.08098829 0.03951649 0.12401321 0.05980883\n",
      "  0.08890322 0.06738079 0.03630924 0.04692714 0.05147175 0.03772337\n",
      "  0.06007574 0.06811971 0.0595382  0.03381914 0.11195166 0.1467343\n",
      "  0.09791479 0.05777355 0.05887409 0.09446018 0.0445101  0.06081974\n",
      "  0.05322683 0.06529738 0.09605748 0.07507905 0.04665623 0.07890195]\n",
      " [0.05313929 0.05580626 0.08386011 0.03691254 0.097089   0.05632258\n",
      "  0.07641426 0.05945704 0.03121228 0.04613481 0.0508334  0.03177992\n",
      "  0.05773657 0.06738096 0.0525961  0.03014377 0.08816328 0.09791479\n",
      "  0.12196883 0.05161956 0.05655207 0.08808661 0.04154383 0.05441355\n",
      "  0.05216422 0.05957553 0.09287481 0.07675409 0.04228736 0.07808025]\n",
      " [0.04757556 0.05612814 0.0449258  0.03595275 0.05651585 0.04737599\n",
      "  0.04757028 0.04778581 0.028539   0.0393672  0.03891782 0.03301777\n",
      "  0.04627418 0.04812156 0.04956291 0.02867415 0.05363927 0.05777355\n",
      "  0.05161956 0.06752816 0.03816954 0.06424506 0.0352268  0.04506044\n",
      "  0.0397685  0.04034459 0.05383314 0.04471115 0.04046689 0.04568016]\n",
      " [0.04089114 0.04076612 0.04543493 0.03774644 0.060217   0.04129934\n",
      "  0.04606996 0.0390063  0.02726356 0.04256831 0.03859442 0.0288932\n",
      "  0.0425341  0.04584824 0.03957346 0.02652624 0.05620191 0.05887409\n",
      "  0.05655207 0.03816954 0.11429998 0.05689314 0.03727925 0.03746001\n",
      "  0.03838816 0.06335033 0.05755321 0.04670669 0.03150395 0.04645038]\n",
      " [0.06318825 0.0728192  0.07692296 0.04741208 0.09650212 0.06563254\n",
      "  0.07913297 0.07078703 0.03751898 0.04933336 0.04860616 0.03950468\n",
      "  0.07377123 0.06738955 0.06565024 0.03737751 0.08737843 0.09446018\n",
      "  0.08808661 0.06424506 0.05689314 0.18754057 0.04365432 0.06571453\n",
      "  0.05391741 0.06178805 0.08925502 0.07357973 0.05292739 0.08353867]\n",
      " [0.03134421 0.03812712 0.03365214 0.02928761 0.04306594 0.03595909\n",
      "  0.03601303 0.03539703 0.02195835 0.02857973 0.03297866 0.02407892\n",
      "  0.03788343 0.03306413 0.03531087 0.02203376 0.04043345 0.0445101\n",
      "  0.04154383 0.0352268  0.03727925 0.04365432 0.07153401 0.03301167\n",
      "  0.03446159 0.0317975  0.04232052 0.03343527 0.02922535 0.03464421]\n",
      " [0.04182683 0.05330821 0.04666031 0.03584193 0.05922712 0.05115923\n",
      "  0.05015553 0.06063157 0.02801136 0.03474188 0.03594498 0.03090632\n",
      "  0.05143378 0.04239904 0.05033768 0.02774645 0.05668428 0.06081974\n",
      "  0.05441355 0.04506044 0.03746001 0.06571453 0.03301167 0.06593792\n",
      "  0.04066965 0.0374426  0.05560857 0.0445904  0.03786639 0.04873028]\n",
      " [0.03767239 0.04748003 0.04573639 0.02991265 0.05203964 0.04333436\n",
      "  0.0458186  0.04266983 0.02776305 0.03375737 0.04175247 0.02631471\n",
      "  0.04953889 0.03693979 0.04223521 0.0290047  0.04795923 0.05322683\n",
      "  0.05216422 0.0397685  0.03838816 0.05391741 0.03446159 0.04066965\n",
      "  0.0879475  0.04140908 0.05336554 0.03931741 0.03569074 0.04102592]\n",
      " [0.04004112 0.03840437 0.05146677 0.04169069 0.06563279 0.03858528\n",
      "  0.0507022  0.03959386 0.02362747 0.04160905 0.03915089 0.03226891\n",
      "  0.04000065 0.05225092 0.03964755 0.02473885 0.05822591 0.06529738\n",
      "  0.05957553 0.04034459 0.06335033 0.06178805 0.0317975  0.0374426\n",
      "  0.04140908 0.15278465 0.06035352 0.05031076 0.03522648 0.05023214]\n",
      " [0.06477847 0.0574995  0.08089031 0.04147864 0.09375364 0.05676927\n",
      "  0.07692334 0.06090571 0.03371137 0.04588668 0.05227014 0.03665765\n",
      "  0.06401394 0.06403239 0.05453608 0.03190455 0.08390243 0.09605748\n",
      "  0.09287481 0.05383314 0.05755321 0.08925502 0.04232052 0.05560857\n",
      "  0.05336554 0.06035352 0.14789816 0.07406416 0.04372343 0.07619926]\n",
      " [0.04469758 0.04726637 0.06646827 0.03405527 0.07440688 0.04677052\n",
      "  0.05908985 0.04899345 0.02656254 0.03963312 0.04143478 0.03046576\n",
      "  0.04564139 0.05602561 0.04439104 0.02806884 0.06901706 0.07507905\n",
      "  0.07675409 0.04471115 0.04670669 0.07357973 0.03343527 0.0445904\n",
      "  0.03931741 0.05031076 0.07406416 0.07524909 0.03561466 0.06300579]\n",
      " [0.03452718 0.04382354 0.03781563 0.03421858 0.04581358 0.04127028\n",
      "  0.03853498 0.04157972 0.02630328 0.03099732 0.03437929 0.02824856\n",
      "  0.03794974 0.03541613 0.04260079 0.02657189 0.04387256 0.04665623\n",
      "  0.04228736 0.04046689 0.03150395 0.05292739 0.02922535 0.03786639\n",
      "  0.03569074 0.03522648 0.04372343 0.03561466 0.06437008 0.03799703]\n",
      " [0.04345159 0.05273604 0.06780621 0.03532489 0.0802604  0.04942686\n",
      "  0.06289162 0.05462441 0.02748209 0.03857455 0.04077738 0.02863084\n",
      "  0.05171111 0.054317   0.04745754 0.02487508 0.07476734 0.07890195\n",
      "  0.07808025 0.04568016 0.04645038 0.08353867 0.03464421 0.04873028\n",
      "  0.04102592 0.05023214 0.07619926 0.06300579 0.03799703 0.11778289]]\n"
     ]
    }
   ],
   "source": [
    "# Question 1a\n",
    "price = stock_data['Adj Close'].values\n",
    "ret = price[1:]/price[:-1] - 1\n",
    "#print(price)\n",
    "#print(len(ret))\n",
    "mu = np.mean(ret,axis=0)*250\n",
    "sigma = np.cov(np.transpose(ret))*250\n",
    "print(mu)\n",
    "print()\n",
    "print(sigma)"
   ],
   "metadata": {
    "collapsed": false,
    "pycharm": {
     "name": "#%%\n"
    }
   }
  },
  {
   "cell_type": "code",
   "execution_count": 310,
   "outputs": [
    {
     "name": "stdout",
     "output_type": "stream",
     "text": [
      "[ 0.109132   -0.10223886  0.07912971  0.02440582 -0.01039185 -0.05852131\n",
      "  0.09320082 -0.02982641  0.26880846  0.08139476  0.01798878  0.11094029\n",
      " -0.04014704  0.02974078 -0.04708663  0.30246311 -0.04038832 -0.09756682\n",
      " -0.06704277 -0.02038522  0.00059134 -0.0782279   0.13729767  0.1366923\n",
      "  0.02578847  0.01179619 -0.08245165  0.0867309   0.0889549   0.0692185\n",
      "  0.05148103]\n",
      "[ 0.109132   -0.10223886  0.07912971  0.02440582 -0.01039185 -0.05852131\n",
      "  0.09320082 -0.02982641  0.26880846  0.08139476  0.01798878  0.11094029\n",
      " -0.04014704  0.02974078 -0.04708663  0.30246311 -0.04038832 -0.09756682\n",
      " -0.06704277 -0.02038522  0.00059134 -0.0782279   0.13729767  0.1366923\n",
      "  0.02578847  0.01179619 -0.08245165  0.0867309   0.0889549   0.0692185 ]\n"
     ]
    }
   ],
   "source": [
    "# Question 1b\n",
    "\n",
    "# Method 1\n",
    "A = 2*sigma\n",
    "row = [1 for i in range(len(sigma))]\n",
    "A = np.vstack([A,row])\n",
    "A2 = [-1 for i in range(len(sigma))]\n",
    "A2 = np.append(A2,[0],axis=0)\n",
    "A = np.c_[A,A2]\n",
    "#print(A)\n",
    "b = [0 for i in range(len(sigma))]\n",
    "b = np.append(b,[1],axis=0)\n",
    "#print(b)\n",
    "alpha_min_variance = np.linalg.solve(A,b)\n",
    "print(alpha_min_variance)\n",
    "\n",
    "# Method 2\n",
    "alpha_min_variance_2 = np.linalg.solve(sigma,np.ones(len(sigma)))\n",
    "alpha_min_variance_2 = alpha_min_variance_2/np.sum(alpha_min_variance_2)\n",
    "print(alpha_min_variance_2)\n",
    "#np.sum(alpha_min_variance_2)"
   ],
   "metadata": {
    "collapsed": false,
    "pycharm": {
     "name": "#%%\n"
    }
   }
  },
  {
   "cell_type": "code",
   "execution_count": 311,
   "outputs": [
    {
     "name": "stdout",
     "output_type": "stream",
     "text": [
      "[ 0.4343236  -0.03994129 -0.34077165 -0.11072285 -0.14005542 -0.44827573\n",
      "  0.12238689  0.50745361 -0.43798734  0.05853983 -0.31602999 -0.22803368\n",
      "  0.48150732 -0.48835745  0.21478865  0.23125824  0.07752229  0.39235058\n",
      " -0.32079664  0.7415033  -0.02401641  0.61637428 -0.18722198  0.10913111\n",
      " -0.00122937  0.05629033 -0.12546023  0.2440596  -0.00658884 -0.07200076]\n"
     ]
    }
   ],
   "source": [
    "# Question 1c\n",
    "# Method 1\n",
    "gamma = 2\n",
    "A_bis = 2*gamma*sigma\n",
    "row = [1 for i in range(len(sigma))]\n",
    "A_bis = np.vstack([A_bis,row])\n",
    "A2_bis = [1 for i in range(len(sigma))]\n",
    "A2_bis = np.append(A2_bis,[0],axis=0)\n",
    "A_bis = np.c_[A_bis,A2_bis]\n",
    "#print(A)\n",
    "b_bis = mu\n",
    "b_bis = np.append(b_bis,[1],axis=0)\n",
    "#print(b)\n",
    "alpha_min_variance_gamma = np.linalg.solve(A_bis,b_bis)\n",
    "alpha_min_variance_gamma = alpha_min_variance_gamma[:-1]\n",
    "print(alpha_min_variance_gamma)"
   ],
   "metadata": {
    "collapsed": false,
    "pycharm": {
     "name": "#%%\n"
    }
   }
  },
  {
   "cell_type": "code",
   "execution_count": 312,
   "outputs": [
    {
     "data": {
      "text/plain": "<Figure size 432x288 with 1 Axes>",
      "image/png": "[encoded data removed]"
     },
     "metadata": {
      "needs_background": "light"
     },
     "output_type": "display_data"
    },
    {
     "name": "stdout",
     "output_type": "stream",
     "text": [
      "Mean:  0.999436306866461\n",
      "Variance:  0.2545055515431171\n",
      "Std:  0.5044854324389527\n"
     ]
    }
   ],
   "source": [
    "# Plot the portfolio weights\n",
    "plt.scatter(range(1,len(sigma)+1),alpha_min_variance_gamma,c='green')\n",
    "plt.title('Weights of the optimal mean-variance portfolio: gamma=2')\n",
    "plt.show()\n",
    "mean_portfolio = mu@alpha_min_variance_gamma\n",
    "variance_portfolio = alpha_min_variance_gamma@sigma@alpha_min_variance_gamma\n",
    "print('Mean: ',mean_portfolio)\n",
    "print('Variance: ',variance_portfolio)\n",
    "print('Std: ',np.sqrt(variance_portfolio))"
   ],
   "metadata": {
    "collapsed": false,
    "pycharm": {
     "name": "#%%\n"
    }
   }
  },
  {
   "cell_type": "code",
   "execution_count": 313,
   "metadata": {},
   "outputs": [],
   "source": [
    "def my_obj(alpha,epsilon,sigma,mu):\n",
    "    return -(alpha@mu -np.abs(alpha)@epsilon -2*(alpha@sigma@alpha))"
   ]
  },
  {
   "cell_type": "code",
   "execution_count": 314,
   "metadata": {},
   "outputs": [],
   "source": [
    "def my_constr(x):     \n",
    "    return np.sum(x) - 1"
   ]
  },
  {
   "cell_type": "code",
   "execution_count": 315,
   "outputs": [
    {
     "data": {
      "text/plain": "<Figure size 432x288 with 1 Axes>",
      "image/png": "[encoded data removed]"
     },
     "metadata": {
      "needs_background": "light"
     },
     "output_type": "display_data"
    },
    {
     "name": "stdout",
     "output_type": "stream",
     "text": [
      "Mean:  0.9994965474205818\n",
      "Variance:  0.2545363884578807\n",
      "Std:  0.5045159942537805\n"
     ]
    }
   ],
   "source": [
    "# Check of the values previously obtained\n",
    "# Method 2\n",
    "x0 = np.ones(len(sigma))/len(sigma)\n",
    "obj = lambda alpha : -(alpha@mu-gamma*(alpha@sigma@alpha))\n",
    "constr = {'type': 'eq', 'fun': lambda alpha : my_constr(alpha)}\n",
    "opt = scipy.optimize.minimize(obj, x0, constraints=constr, options={'maxiter':1e6})\n",
    "\n",
    "plt.scatter(range(1,len(sigma)+1),opt.x)\n",
    "plt.show()\n",
    "mean_portfolio_2 = mu@opt.x\n",
    "variance_portfolio_2 = opt.x@sigma@opt.x\n",
    "print('Mean: ',mean_portfolio_2)\n",
    "print('Variance: ',variance_portfolio_2)\n",
    "print('Std: ',np.sqrt(variance_portfolio_2))"
   ],
   "metadata": {
    "collapsed": false,
    "pycharm": {
     "name": "#%%\n"
    }
   }
  },
  {
   "cell_type": "code",
   "execution_count": 316,
   "metadata": {},
   "outputs": [],
   "source": [
    "# Question 1d\n",
    "\n",
    "epsilon = np.diag(sigma)**.5\n",
    "\n",
    "x0 = np.ones(len(sigma))/len(sigma)\n",
    "obj = lambda alpha : my_obj(alpha,epsilon,sigma,mu)\n",
    "constr = {'type': 'eq', 'fun': lambda alpha : my_constr(alpha)}\n",
    "opt1 = scipy.optimize.minimize(obj, x0, constraints=constr, options={'maxiter':1e6})\n"
   ]
  },
  {
   "cell_type": "code",
   "execution_count": 317,
   "outputs": [
    {
     "data": {
      "text/plain": "<Figure size 432x288 with 1 Axes>",
      "image/png": "[encoded data removed]"
     },
     "metadata": {
      "needs_background": "light"
     },
     "output_type": "display_data"
    },
    {
     "name": "stdout",
     "output_type": "stream",
     "text": [
      "Mean:  0.40081401524821736\n",
      "Variance:  0.2539751555587822\n",
      "Std:  0.2539751555587822\n",
      "Worst case mean:  0.09242300215506609\n",
      "Best case mean:  0.7092050283413687\n"
     ]
    }
   ],
   "source": [
    "# Plot the portfolio weights\n",
    "plt.scatter(range(1,len(sigma)+1),opt1.x,c='r')\n",
    "plt.title('Weights of the optimal mean-variance portfolio in the robust setting')\n",
    "plt.show()\n",
    "mean_portfolio = mu@opt1.x\n",
    "variance_portfolio = opt1.x@sigma@opt1.x\n",
    "print('Mean: ',mean_portfolio)\n",
    "print('Variance: ',np.sqrt(variance_portfolio))\n",
    "print('Std: ',np.sqrt(variance_portfolio))\n",
    "print('Worst case mean: ',opt1.x@(mu-epsilon))\n",
    "print('Best case mean: ',opt1.x@(mu+epsilon))"
   ],
   "metadata": {
    "collapsed": false,
    "pycharm": {
     "name": "#%%\n"
    }
   }
  },
  {
   "cell_type": "code",
   "execution_count": 318,
   "outputs": [
    {
     "name": "stdout",
     "output_type": "stream",
     "text": [
      "[[ 0.15776443  0.09655365  0.09202982 ...  0.08690317 -0.32714688\n",
      "  -1.        ]\n",
      " [ 0.09655365  0.18023006  0.10012727 ...  0.10547208 -0.32545793\n",
      "  -1.        ]\n",
      " [ 0.09202982  0.10012727  0.17958935 ...  0.13561243 -0.22551466\n",
      "  -1.        ]\n",
      " ...\n",
      " [ 0.08690317  0.10547208  0.13561243 ...  0.23556579 -0.26757319\n",
      "  -1.        ]\n",
      " [ 1.          1.          1.         ...  1.         -0.\n",
      "   0.        ]\n",
      " [ 0.32714688  0.32545793  0.22551466 ...  0.26757319 -0.\n",
      "   0.        ]]\n",
      "[0.16638979 0.16392913 0.16210652 0.16094364 0.16045481 0.16064621\n",
      " 0.16151542 0.16305158 0.16523611 0.16804371 0.17144379 0.17540188\n",
      " 0.17988116 0.18484375 0.19025182 0.19606851 0.20225858 0.20878882\n",
      " 0.21562832 0.2227486  0.2301236  0.23772961 0.24554517 0.25355089\n",
      " 0.26172934 0.27006481 0.27854322 0.28715189 0.29587947 0.30471573\n",
      " 0.31365149 0.32267848 0.33178926 0.3409771  0.35023596 0.35956033\n",
      " 0.36894525 0.37838622 0.38787915 0.3974203  0.4070063  0.41663404\n",
      " 0.42630069 0.43600367 0.44574061 0.45550932 0.46530782 0.47513424\n",
      " 0.4849869  0.49486423 0.50476478 0.51468721 0.52463028 0.53459284\n",
      " 0.54457382 0.55457222 0.56458712 0.57461765 0.58466302 0.59472246\n",
      " 0.60479528 0.61488082 0.62497846 0.63508763 0.64520778 0.65533841\n",
      " 0.66547904 0.67562921 0.68578851 0.69595653 0.70613289 0.71631725\n",
      " 0.72650926 0.73670861 0.746915   0.75712813 0.76734775 0.7775736\n",
      " 0.78780543 0.79804302 0.80828614 0.81853459 0.82878817 0.83904669\n",
      " 0.84930997 0.85957785 0.86985015 0.88012673 0.89040744 0.90069213\n",
      " 0.91098067 0.92127294 0.9315688  0.94186814 0.95217085 0.96247682\n",
      " 0.97278594 0.98309812 0.99341326 1.00373127]\n"
     ]
    },
    {
     "data": {
      "text/plain": "<Figure size 432x288 with 1 Axes>",
      "image/png": "[encoded data removed]"
     },
     "metadata": {
      "needs_background": "light"
     },
     "output_type": "display_data"
    }
   ],
   "source": [
    "# Question 1e\n",
    "\n",
    "# First, we need the vector of mu that we must give to resolve the system\n",
    "tab_test_mu = [i for i in np.arange(0,2,0.02)]\n",
    "#print(len(tab_mu))\n",
    "\n",
    "A_eff_frontier = 2*sigma\n",
    "row = [1 for i in range(len(sigma))]\n",
    "A_eff_frontier = np.vstack([A_eff_frontier,row])\n",
    "A_eff_frontier = np.vstack([A_eff_frontier,mu])\n",
    "\n",
    "mu_eff = mu\n",
    "mu_eff = np.append(mu,[0,0])\n",
    "A_eff_frontier = np.c_[A_eff_frontier,-mu_eff]\n",
    "\n",
    "A2_eff = [-1 for i in range(len(sigma))]\n",
    "A2_eff = np.append(A2_eff,[0,0],axis=0)\n",
    "A_eff_frontier = np.c_[A_eff_frontier,A2_eff]\n",
    "print(A_eff_frontier)\n",
    "\n",
    "tab_result = []\n",
    "for i in range(0,len(tab_test_mu)):\n",
    "    b_eff = [0 for j in range(len(sigma))]\n",
    "    b_eff = np.append(b_eff,[1,tab_test_mu[i]],axis=0)\n",
    "    res = np.linalg.solve(A_eff_frontier,b_eff)\n",
    "    res = res[:-2]\n",
    "    res = (res@sigma@res)**0.5\n",
    "    tab_result = np.append(tab_result,res)\n",
    "\n",
    "print(tab_result)\n",
    "plt.plot(tab_result,tab_test_mu)\n",
    "plt.scatter(np.diag(sigma)**0.5,mu,c='yellow')\n",
    "plt.xlim([0,0.50])\n",
    "plt.title('Efficient frontier: (f(mu),mu)')\n",
    "plt.xlabel('Standard deviation')\n",
    "plt.ylabel('Mean returns')\n",
    "plt.show()"
   ],
   "metadata": {
    "collapsed": false,
    "pycharm": {
     "name": "#%%\n"
    }
   }
  },
  {
   "cell_type": "code",
   "execution_count": 319,
   "outputs": [],
   "source": [
    "def omf_mean(x,R,mu_omf):\n",
    "    return x*R + (1-x)*mu_omf"
   ],
   "metadata": {
    "collapsed": false,
    "pycharm": {
     "name": "#%%\n"
    }
   }
  },
  {
   "cell_type": "code",
   "execution_count": 320,
   "outputs": [],
   "source": [
    "def omf_var(x,var_omf):\n",
    "    return np.abs(1-x)*var_omf"
   ],
   "metadata": {
    "collapsed": false,
    "pycharm": {
     "name": "#%%\n"
    }
   }
  },
  {
   "cell_type": "code",
   "execution_count": 321,
   "outputs": [
    {
     "name": "stdout",
     "output_type": "stream",
     "text": [
      "[ 0.55930846 -0.0159977  -0.50215746 -0.1626585  -0.1898906  -0.59807481\n",
      "  0.13360432  0.71395301 -0.70963881  0.04975571 -0.44440751 -0.35831569\n",
      "  0.68200112 -0.68748448  0.31543838  0.2038912   0.12284032  0.58064652\n",
      " -0.41832497  1.03432923 -0.0334742   0.88333923 -0.31194859  0.09853818\n",
      " -0.01161347  0.0733913  -0.14199025  0.30452767 -0.04331033 -0.12627728\n",
      "  0.        ]\n",
      "Mean:  1.3511325540021273\n",
      "Std:  0.6812830573137769\n",
      "Sharpe Ratio:  1.9685394192687886\n"
     ]
    },
    {
     "data": {
      "text/plain": "<Figure size 432x288 with 1 Axes>",
      "image/png": "[encoded data removed]"
     },
     "metadata": {
      "needs_background": "light"
     },
     "output_type": "display_data"
    }
   ],
   "source": [
    "# Question 1f\n",
    "\n",
    "# Add a riskless asset to the set of available ones\n",
    "R = 0.01\n",
    "mu_vect = np.append(mu,[R])\n",
    "\n",
    "sigma_omf = sigma\n",
    "risk_row = [0 for i in range(len(sigma_omf))]\n",
    "risk_col = [0 for i in range(len(sigma_omf) + 1)]\n",
    "sigma_omf = np.vstack([sigma_omf, risk_row])\n",
    "sigma_omf = np.c_[sigma_omf, risk_col]\n",
    "\n",
    "# Optimal Mutual fund\n",
    "b_omf = mu - R\n",
    "optimal_mutual_fund = np.linalg.solve(sigma,b_omf)\n",
    "optimal_mutual_fund = optimal_mutual_fund/np.sum(optimal_mutual_fund)\n",
    "optimal_mutual_fund = np.append(optimal_mutual_fund,[0])\n",
    "print(optimal_mutual_fund)\n",
    "\n",
    "mean_omf = optimal_mutual_fund@mu_vect\n",
    "var_omf = (optimal_mutual_fund@sigma_omf@optimal_mutual_fund)**0.5\n",
    "sharpe_ratio = (mean_omf - R)/var_omf\n",
    "print('Mean: ',mean_omf)\n",
    "print('Std: ',var_omf)\n",
    "print('Sharpe Ratio: ',sharpe_ratio)\n",
    "\n",
    "plt.plot(tab_result,tab_test_mu, 'b-',lw=2, label='Original Market')\n",
    "plt.plot([0, var_omf], [R, mean_omf], 'r-', lw=2,label='Riskless asset added')\n",
    "plt.title('Efficient frontier for the extended market')\n",
    "plt.xlabel('Standard deviation')\n",
    "plt.ylabel('Mean returns')\n",
    "plt.legend(loc=\"upper left\")\n",
    "plt.show()"
   ],
   "metadata": {
    "collapsed": false,
    "pycharm": {
     "name": "#%%\n"
    }
   }
  },
  {
   "cell_type": "code",
   "execution_count": 322,
   "outputs": [
    {
     "name": "stdout",
     "output_type": "stream",
     "text": [
      "[0.23647691 0.23521756 0.16069602 0.11644732 0.25945471 0.16271189\n",
      " 0.23868504 0.26332886 0.06679532 0.13594034 0.08201654 0.08431206\n",
      " 0.31424855 0.11238701 0.22591048 0.11645261 0.25496277 0.29788986\n",
      " 0.1806389  0.2359345  0.12971517 0.46613635 0.09810717 0.22185795\n",
      " 0.15142137 0.15432115 0.21812945 0.17660327 0.14985307 0.19205648]\n"
     ]
    },
    {
     "data": {
      "text/plain": "[<matplotlib.lines.Line2D at 0x125758d10>]"
     },
     "execution_count": 322,
     "metadata": {},
     "output_type": "execute_result"
    },
    {
     "data": {
      "text/plain": "<Figure size 432x288 with 1 Axes>",
      "image/png": "[encoded data removed]"
     },
     "metadata": {
      "needs_background": "light"
     },
     "output_type": "display_data"
    }
   ],
   "source": [
    "# Question 2a\n",
    "tab_beta = []\n",
    "for i in range(len(sigma_omf)):\n",
    "    S = 0\n",
    "    for j in range(len(sigma_omf)):\n",
    "        S += sigma_omf[i][j] * optimal_mutual_fund[j]\n",
    "    #S = S / (var_omf**2)\n",
    "    S = S/(optimal_mutual_fund@sigma_omf@optimal_mutual_fund)\n",
    "    tab_beta = np.append(tab_beta,S)\n",
    "\n",
    "print(tab_beta[:-1])\n",
    "plt.plot(tab_beta[:-1])"
   ],
   "metadata": {
    "collapsed": false,
    "pycharm": {
     "name": "#%%\n"
    }
   }
  },
  {
   "cell_type": "code",
   "execution_count": 323,
   "outputs": [
    {
     "name": "stdout",
     "output_type": "stream",
     "text": [
      "[0.23647690771929955, 0.2352175631348039, 0.16069601935998937, 0.11644732403633713, 0.2594547147442752, 0.16271188525384422, 0.23868503617702092, 0.26332885894853947, 0.0667953191010352, 0.13594033788653426, 0.08201654489245462, 0.08431205682653796, 0.3142485501614477, 0.11238701393487446, 0.22591048186153168, 0.1164526063706547, 0.2549627702764114, 0.297889861137628, 0.18063889962494248, 0.23593449674128913, 0.12971517496698529, 0.4661363539691932, 0.09810717281792775, 0.22185794910649362, 0.15142136619884544, 0.1543211525645765, 0.2181294484890924, 0.1766032677218534, 0.1498530726979811, 0.192056476902011]\n",
      "\n",
      "[4.336808689942018e-19, 8.673617379884035e-19, 6.505213034913027e-19, 8.673617379884035e-19, 1.0842021724855044e-18, 9.75781955236954e-19, 1.951563910473908e-18, 2.168404344971009e-19, 3.2526065174565133e-19, 5.421010862427522e-19, 1.5720931501039814e-18, 9.215718466126788e-19, 8.673617379884035e-19, 7.589415207398531e-19, 2.168404344971009e-19, 1.3010426069826053e-18, 1.5178830414797062e-18, 2.3852447794681098e-18, 2.3852447794681098e-18, 1.3010426069826053e-18, 1.1926223897340549e-18, 8.673617379884035e-19, 1.1926223897340549e-18, 2.168404344971009e-19, 9.75781955236954e-19, 1.5178830414797062e-18, 6.505213034913027e-19, 2.168404344971009e-18, 3.2526065174565133e-19, 2.3852447794681098e-18]\n"
     ]
    },
    {
     "data": {
      "text/plain": "<Figure size 432x288 with 1 Axes>",
      "image/png": "[encoded data removed]"
     },
     "metadata": {
      "needs_background": "light"
     },
     "output_type": "display_data"
    }
   ],
   "source": [
    "# Question 2b\n",
    "r_m = ret@optimal_mutual_fund[:-1]\n",
    "betas=[]\n",
    "alphas=[]\n",
    "for i in range(len(ret[0])):\n",
    "    slope, intercept, r_value, p_value, std_err = stats.linregress(r_m-R/250, ret[:,i]-R/250)\n",
    "    #slope, intercept, r_value, p_value, std_err = stats.linregress(ret_mp, ret[:,i]-R)\n",
    "    betas.append(slope)\n",
    "    alphas.append(intercept)\n",
    "print(betas)\n",
    "plt.plot(betas)\n",
    "print()\n",
    "print(alphas)\n",
    "plt.plot(alphas)\n",
    "#plt.scatter(alphas,betas)\n",
    "plt.show()"
   ],
   "metadata": {
    "collapsed": false,
    "pycharm": {
     "name": "#%%\n"
    }
   }
  },
  {
   "cell_type": "code",
   "execution_count": 324,
   "outputs": [
    {
     "data": {
      "text/plain": "<function TextIOWrapper.close()>"
     },
     "execution_count": 324,
     "metadata": {},
     "output_type": "execute_result"
    }
   ],
   "source": [
    "# Question 2c\n",
    "tickers_file = 'TechTickers_2.csv'\n",
    "tickers = []\n",
    "f = open(tickers_file,\"r\",encoding='utf-8-sig')\n",
    "for line in csv.reader(f):\n",
    "    tickers.append(str(line[0]))\n",
    "f.close\n",
    "factors_file = 'Factors.csv'\n",
    "factors = []\n",
    "f = open(factors_file,\"r\",encoding='utf-8-sig')\n",
    "for line in csv.reader(f):\n",
    "    factors.append([float(line[i]) for i in range(len(line))])\n",
    "f.close"
   ],
   "metadata": {
    "collapsed": false,
    "pycharm": {
     "name": "#%%\n"
    }
   }
  },
  {
   "cell_type": "code",
   "execution_count": 332,
   "outputs": [
    {
     "name": "stdout",
     "output_type": "stream",
     "text": [
      "[*********************100%***********************]  1 of 1 completed\n",
      "[*********************100%***********************]  1 of 1 completed\n",
      "[*********************100%***********************]  1 of 1 completed\n",
      "[*********************100%***********************]  1 of 1 completed\n",
      "[*********************100%***********************]  1 of 1 completed\n",
      "[*********************100%***********************]  1 of 1 completed\n",
      "[*********************100%***********************]  1 of 1 completed\n",
      "[*********************100%***********************]  1 of 1 completed\n",
      "[*********************100%***********************]  1 of 1 completed\n",
      "[*********************100%***********************]  1 of 1 completed\n",
      "[*********************100%***********************]  1 of 1 completed\n",
      "[*********************100%***********************]  1 of 1 completed\n",
      "[*********************100%***********************]  1 of 1 completed\n",
      "[*********************100%***********************]  1 of 1 completed\n",
      "[*********************100%***********************]  1 of 1 completed\n",
      "[*********************100%***********************]  1 of 1 completed\n",
      "[*********************100%***********************]  1 of 1 completed\n",
      "[*********************100%***********************]  1 of 1 completed\n",
      "[*********************100%***********************]  1 of 1 completed\n",
      "[*********************100%***********************]  1 of 1 completed\n",
      "[*********************100%***********************]  1 of 1 completed\n",
      "[*********************100%***********************]  1 of 1 completed\n",
      "[*********************100%***********************]  1 of 1 completed\n",
      "[*********************100%***********************]  1 of 1 completed\n",
      "[*********************100%***********************]  1 of 1 completed\n",
      "[*********************100%***********************]  1 of 1 completed\n",
      "[*********************100%***********************]  1 of 1 completed\n",
      "[*********************100%***********************]  1 of 1 completed\n",
      "[*********************100%***********************]  1 of 1 completed\n",
      "[*********************100%***********************]  1 of 1 completed\n",
      "P-values: \n",
      "[0.6198509452318579, 0.5128108241473068, 0.32041577782678526, 0.780025396865647, 0.9531706258730998, 0.20041149589401416, 0.46064519635454504, 0.9694004258511724, 0.7388691142808398, 0.27824658952371806, 0.1103264649348922, 0.3108781475982797, 0.17090465747676079, 0.8159671401573111, 0.8113910165933931, 0.8104896876528265, 0.017709722337945866, 0.4283904153832262, 0.24528729501080435, 0.9359521730756448, 0.23631139178487237, 0.7440568320115344, 0.7115324126912522, 0.9427404911803015, 0.11105120726581125, 0.5303635134653087, 0.16145035057032378, 0.5806268564563692, 0.4352142423607258, 0.3741105414726355]\n",
      "\n",
      "R-values: \n",
      "[0.20872954391424597, -0.27311118753968827, 0.4043599602666572, 0.11842228701327606, -0.024986063509088868, 0.5063300066296335, 0.3062691385920459, 0.01632267187645565, -0.14113270248321566, 0.4375861081611868, -0.6072783548846825, 0.4116816440885269, -0.5359929916873731, 0.0987917693635771, 0.10128196229391681, 0.10177273654442565, -0.7975988489755065, -0.32752829958172475, -0.4653177811105892, -0.034185465494845385, -0.4731902725736892, -0.13825468684303482, 0.15638016841728503, 0.0305574214925116, -0.6063100280152893, -0.2622487053005912, -0.5460725879552911, 0.2318392008370452, -0.32297686574215795, -0.3649070014271138]\n",
      "\n",
      "bi coefficients: \n",
      "[0.30382306920951296, 0.33911480445788583, 0.15925191199309974, 0.18496017025917166, 0.344765830868132, 0.5492662423221671, 0.3004924406145481, 0.25251379749250347, 0.32778368489632476, 0.4626204521570602, 0.254586125046145, 0.46921150452427, 0.12510234828335975, 0.33760396165933615, 0.2536600678176741, 0.2646407385717477, 0.22749682609641345, 0.26574476494424404, 0.32036543607671997, 0.31260056300095956, 0.38676166853453214, 0.42395211279581774, 0.08688189585553319, 0.2055483996780115, 0.20424210159484296, 0.10282469727486333, 0.15381759976843815, 0.18341760894912876, 0.14660535970181893, 0.16963005707412612]\n",
      "\n",
      "ci coeffifients: \n",
      "[0.7512007507018869, -0.3175926819070174, 2.0733969660016895, 0.020865008040708323, -0.007465039553161561, 1.0523650920916445, 0.7343172452621547, 0.06016923791142262, -0.18553831042925684, 0.8148107574493635, -0.7114023683823355, 1.1873605314301132, -1.2695150413031961, 0.4228681468703599, 0.004659724881654104, 0.14529299418394775, -1.4472959689689864, -0.5786076719289011, -0.30861989018032643, -0.16890579674885672, -0.6836847333811517, -0.00988632106057315, 0.7928876501646701, 0.09399755574604968, -0.40363147747513456, -0.12948995246913417, -1.267152675512355, 0.3543214812114364, -0.1365521611343992, -0.35220749687631897]\n",
      "\n",
      "30\n"
     ]
    }
   ],
   "source": [
    "res_all = []\n",
    "mu_annual_all = []\n",
    "ret_all = []\n",
    "F_annual_all = []\n",
    "tab_pvalues = []\n",
    "tab_Rvalues  = []\n",
    "tab_bi = []\n",
    "tab_ci = []\n",
    "for ind in range(30):\n",
    "    ticker = tickers[ind]\n",
    "    #downoad the prices and volumes for the previously read list of tickers\n",
    "    start_date = \"2014-01-01\"\n",
    "    end_date = \"2022-01-01\"\n",
    "    stock_data = yf.download(ticker, start=start_date, end=end_date)\n",
    "    #compute the returns\n",
    "    price = stock_data['Adj Close'].values\n",
    "    ret = price[1:]/price[:-1] - 1\n",
    "    #create a list of daily and annual values for the factor and returns\n",
    "    F = []\n",
    "    F_annual = []\n",
    "    ret1 = []\n",
    "    ret_annual = []\n",
    "    cntr=0\n",
    "    j=1\n",
    "    temp = 0\n",
    "    for i in range(0,len(ret)):\n",
    "        if (j<len(factors[ind])):\n",
    "            F.append((factors[ind][j]-factors[ind][j-1])/100)\n",
    "            ret1.append(ret[i])\n",
    "            if (cntr==250):\n",
    "                cntr=0\n",
    "                ret_annual.append(temp)\n",
    "                F_annual.append((factors[ind][j]-factors[ind][j-1])/100)\n",
    "                temp=0\n",
    "                j+=1\n",
    "            temp+=ret[i]\n",
    "            cntr+=1\n",
    "\n",
    "    #print(F_annual)\n",
    "    #print(ret_annual)\n",
    "    #regression for annual returns\n",
    "    slope, intercept, r_value, p_value, std_err = stats.linregress(F_annual, ret_annual)\n",
    "    tab_pvalues.append(p_value)\n",
    "    tab_Rvalues.append(r_value)\n",
    "    tab_bi.append(intercept)\n",
    "    tab_ci.append(slope)\n",
    "\n",
    "    res = [ret1[i] - (intercept + slope*F[i])/250 for i in range(len(F))]\n",
    "    res_all.append(res)\n",
    "    mu_annual_all.append([intercept + slope*F_annual[i] for i in range(len(F_annual))])\n",
    "    ret_all.append(ret1)\n",
    "    F_annual_all.append(F_annual)\n",
    "\n",
    "print(\"P-values: \")\n",
    "print(tab_pvalues)\n",
    "print()\n",
    "print(\"R-values: \")\n",
    "print(tab_Rvalues)\n",
    "print()\n",
    "print(\"bi coefficients: \")\n",
    "print(tab_bi)\n",
    "print()\n",
    "print(\"ci coeffifients: \")\n",
    "print(tab_ci)\n",
    "print()\n"
   ],
   "metadata": {
    "collapsed": false,
    "pycharm": {
     "name": "#%%\n"
    }
   }
  },
  {
   "cell_type": "code",
   "execution_count": 334,
   "outputs": [],
   "source": [
    "# Method 2 for Question 2c\n",
    "# Fs_array = np.zeros(shape=(len(tickers),len(factors[0][:])-2))\n",
    "# for i in range(len(tickers)):\n",
    "#     Fs = []\n",
    "#     for j in range(2,len(factors[0][:])):\n",
    "#         temp = factors[i][j-1]-factors[i][j-2]\n",
    "#         Fs.append(temp)\n",
    "#     Fs_array[i][:] = Fs\n",
    "#\n",
    "# Fs_array = Fs_array/100\n",
    "# Fs_array = np.array(Fs_array)\n",
    "# print(Fs_array)\n",
    "#\n",
    "# ret_annual_tab = []\n",
    "# for k in range(2014,2022):\n",
    "#     start_year = \"%i-01-01\" % k\n",
    "#     end_year = \"%i-01-01\" % (k+1)\n",
    "#     ret_annual_df = stock_data[start_year:end_year]\n",
    "#     ret_annual_df = ret_annual_df['Adj Close'].values\n",
    "#     print(ret_annual_df)\n",
    "#     list_inter = []\n",
    "#     for i in range(len(tickers)):\n",
    "#         temp = (ret_annual_df[-1,i]/ret_annual_df[0,i])-1\n",
    "#         list_inter.append(temp)\n",
    "#     ret_annual_tab.append(list_inter)\n",
    "#\n",
    "# ret_annual_tab = np.array(ret_annual_tab)\n",
    "# print(ret_annual_tab)\n",
    "#\n",
    "# bi_coeff=[]\n",
    "# ci_coeff=[]\n",
    "# pvalues=[]\n",
    "# Rvalues=[]\n",
    "# for i in range(len(tickers)):\n",
    "#     slope, intercept, r_value, p_value, std_err = stats.linregress(Fs_array[i,:],ret_annual_tab[:,i])\n",
    "#     ci_coeff.append(slope)\n",
    "#     bi_coeff.append(intercept)\n",
    "#     pvalues.append(p_value)\n",
    "#     Rvalues.append((r_value))\n",
    "#\n",
    "# print(pvalues)\n",
    "# print()\n",
    "# print(Rvalues)\n",
    "# print()\n",
    "# print(bi_coeff)\n",
    "# print()\n",
    "# print(ci_coeff)"
   ],
   "metadata": {
    "collapsed": false,
    "pycharm": {
     "name": "#%%\n"
    }
   }
  },
  {
   "cell_type": "code",
   "execution_count": 345,
   "outputs": [
    {
     "name": "stdout",
     "output_type": "stream",
     "text": [
      "Mean:  1.731903837912697\n",
      "Std:  0.6800601207546281\n",
      "Sharpe ratio:  2.5319876660345675\n",
      "Weights: \n",
      "[ 2.66266842e-01  1.03933979e+00  4.97699484e-02 -1.34793651e-01\n",
      " -3.59713937e-02  6.38486255e-01  1.12702086e+00  3.42115875e-01\n",
      "  3.10912846e-01 -1.86594462e+00 -3.37183923e-01 -1.99414329e-01\n",
      " -6.45431926e-01  1.05985006e+00 -1.63072831e-01 -6.20781826e-02\n",
      " -7.29671792e-01 -4.21736020e-01  2.04602065e-01  3.76806122e-02\n",
      "  6.85879916e-01  4.10474948e-01 -2.89844200e-01  9.62359036e-02\n",
      "  1.72996703e-01 -4.00955511e-01  9.92280913e-02 -8.16219262e-03\n",
      " -2.45030679e-01 -1.56946097e-03]\n",
      "Sigma: \n",
      "[[0.07887519 0.04755461 0.04363162 0.03709726 0.04825989 0.06316149\n",
      "  0.04800379 0.04470157 0.04415534 0.05614452 0.04597503 0.05879831\n",
      "  0.03579501 0.05448804 0.0531389  0.04343485 0.03451249 0.04421833\n",
      "  0.04174225 0.06478815 0.04471081 0.04495855 0.02597461 0.04004039\n",
      "  0.03767787 0.02945832 0.0311622  0.04088382 0.03132596 0.0254269 ]\n",
      " [0.04755461 0.06752471 0.04813362 0.03936569 0.05611794 0.06425448\n",
      "  0.047566   0.04471073 0.0495569  0.0564914  0.04491896 0.05774426\n",
      "  0.03892001 0.05363571 0.05161709 0.04567244 0.04043709 0.04737918\n",
      "  0.04503382 0.05382947 0.04776316 0.04626949 0.02853465 0.04035054\n",
      "  0.03975332 0.03301846 0.03596149 0.03816307 0.03522272 0.02866775]\n",
      " [0.04363162 0.04813362 0.09428707 0.04280199 0.04617673 0.0674579\n",
      "  0.05472136 0.05602808 0.04424153 0.06977554 0.05554083 0.0681247\n",
      "  0.03850018 0.06408532 0.06738891 0.05433924 0.03542509 0.04543595\n",
      "  0.04239576 0.0639897  0.04588309 0.04208821 0.02655128 0.05229164\n",
      "  0.03692151 0.03035538 0.03429338 0.04586056 0.0330584  0.02639316]\n",
      " [0.03709726 0.03936569 0.04280199 0.06134658 0.03871001 0.04931683\n",
      "  0.037296   0.03963258 0.03807553 0.04658537 0.03962377 0.04690975\n",
      "  0.0349767  0.04448668 0.04613482 0.03857425 0.03099874 0.03588227\n",
      "  0.03475101 0.04588193 0.03554698 0.0405209  0.02482339 0.04160404\n",
      "  0.03374217 0.02730202 0.0338476  0.0425617  0.02857801 0.02535204]\n",
      " [0.04825989 0.05611794 0.04617673 0.03871001 0.09011491 0.07278016\n",
      "  0.05410513 0.0472651  0.05597349 0.06073481 0.05005914 0.05971859\n",
      "  0.0409154  0.05717539 0.05580554 0.05273642 0.04375874 0.05604033\n",
      "  0.0532915  0.05750643 0.05624235 0.06113663 0.0340029  0.03840074\n",
      "  0.0474567  0.03730328 0.03984852 0.04076568 0.03811924 0.03120115]\n",
      " [0.06316149 0.06425448 0.0674579  0.04931683 0.07278016 0.18737808\n",
      "  0.07910476 0.07354998 0.06560391 0.09640513 0.07682719 0.09439519\n",
      "  0.04852741 0.08735353 0.08801609 0.08346474 0.05300679 0.06560146\n",
      "  0.06553891 0.08927475 0.07066094 0.0737815  0.03752371 0.06177048\n",
      "  0.05406071 0.03954901 0.04740217 0.05678766 0.04363527 0.03735765]\n",
      " [0.04800379 0.047566   0.05472136 0.037296   0.05410513 0.07910476\n",
      "  0.10547559 0.05906755 0.04808337 0.08727409 0.06350354 0.08875761\n",
      "  0.03975174 0.07969744 0.07638061 0.06287157 0.0385486  0.04966502\n",
      "  0.05005883 0.0768535  0.05653138 0.05369698 0.02889252 0.05067797\n",
      "  0.04580761 0.02901451 0.03490001 0.04602079 0.03597128 0.02603963]\n",
      " [0.04470157 0.04471073 0.05602808 0.03963258 0.0472651  0.07354998\n",
      "  0.05906755 0.07524901 0.04438675 0.07437582 0.06643908 0.07504961\n",
      "  0.04143243 0.06901661 0.07675121 0.06300532 0.03560873 0.04675907\n",
      "  0.04454412 0.07406121 0.04895745 0.04565762 0.02656531 0.05030769\n",
      "  0.03933772 0.03046863 0.03404833 0.04669851 0.03341214 0.02806481]\n",
      " [0.04415534 0.0495569  0.04424153 0.03807553 0.05597349 0.06560391\n",
      "  0.04808337 0.04438675 0.07704414 0.05655966 0.04599829 0.05946873\n",
      "  0.0427936  0.05725291 0.05259675 0.04745297 0.04257257 0.05095469\n",
      "  0.05033431 0.05453184 0.05184274 0.05191967 0.02962771 0.03965058\n",
      "  0.04221385 0.03257717 0.03709279 0.03957231 0.03531251 0.03219383]\n",
      " [0.05614452 0.0564914  0.06977554 0.04658537 0.06073481 0.09640513\n",
      "  0.08727409 0.07437582 0.05655966 0.14050563 0.07980513 0.12390563\n",
      "  0.04951943 0.10646262 0.09700735 0.08017253 0.04584256 0.05973818\n",
      "  0.05900975 0.09383067 0.06542095 0.05984178 0.03413366 0.065483\n",
      "  0.0521012  0.03558    0.03990738 0.06004342 0.04299591 0.03167764]\n",
      " [0.04597503 0.04491896 0.05554083 0.03962377 0.05005914 0.07682719\n",
      "  0.06350354 0.06643908 0.04599829 0.07980513 0.08976899 0.08088105\n",
      "  0.0433471  0.07401556 0.0838278  0.0678195  0.03781629 0.04854712\n",
      "  0.04662999 0.08083579 0.05163749 0.05096442 0.02883707 0.05143354\n",
      "  0.04573094 0.02812805 0.03163351 0.04543751 0.03361902 0.02780713]\n",
      " [0.05879831 0.05774426 0.0681247  0.04690975 0.05971859 0.09439519\n",
      "  0.08875761 0.07504961 0.05946873 0.12390563 0.08088105 0.14665839\n",
      "  0.05144882 0.11188935 0.09784138 0.07883238 0.04664944 0.0597119\n",
      "  0.0606101  0.09611237 0.06729014 0.06005212 0.03632101 0.06518233\n",
      "  0.0532652  0.03776267 0.03949626 0.05873327 0.04444576 0.03380979]\n",
      " [0.03579501 0.03892001 0.03850018 0.0349767  0.0409154  0.04852741\n",
      "  0.03975174 0.04143243 0.0427936  0.04951943 0.0433471  0.05144882\n",
      "  0.08028411 0.04736811 0.05082255 0.04076468 0.03431607 0.04018309\n",
      "  0.03592717 0.05228793 0.03849167 0.03733323 0.02803876 0.03919177\n",
      "  0.04173166 0.0252127  0.02951316 0.03862201 0.03297375 0.02866335]\n",
      " [0.05448804 0.05363571 0.06408532 0.04448668 0.05717539 0.08735353\n",
      "  0.07969744 0.06901661 0.05725291 0.10646262 0.07401556 0.11188935\n",
      "  0.04736811 0.12597354 0.08815422 0.07475616 0.04386633 0.05714447\n",
      "  0.05659706 0.08388902 0.06309544 0.05499327 0.03503467 0.05821878\n",
      "  0.04797055 0.03376775 0.03899355 0.05618669 0.04038959 0.03154774]\n",
      " [0.0531389  0.05161709 0.06738891 0.04613482 0.05580554 0.08801609\n",
      "  0.07638061 0.07675121 0.05259675 0.09700735 0.0838278  0.09784138\n",
      "  0.05082255 0.08815422 0.12196743 0.07808868 0.04227671 0.05630539\n",
      "  0.05436197 0.0928644  0.05941356 0.05775543 0.03121808 0.05956505\n",
      "  0.05219383 0.03177512 0.03688895 0.05655282 0.04150925 0.03013975]\n",
      " [0.04343485 0.04567244 0.05433924 0.03857425 0.05273642 0.08346474\n",
      "  0.06287157 0.06300532 0.04745297 0.08017253 0.0678195  0.07883238\n",
      "  0.04076468 0.07475616 0.07808868 0.11778407 0.03800204 0.04944624\n",
      "  0.04874074 0.07620283 0.05460022 0.05169113 0.02748793 0.05022112\n",
      "  0.0410323  0.02862395 0.03529185 0.04646498 0.03464644 0.02488568]\n",
      " [0.03451249 0.04043709 0.03542509 0.03099874 0.04375874 0.05300679\n",
      "  0.0385486  0.03560873 0.04257257 0.04584256 0.03781629 0.04664944\n",
      "  0.03431607 0.04386633 0.04227671 0.03800204 0.06429044 0.04119539\n",
      "  0.03784842 0.04371188 0.0415795  0.03790652 0.02629933 0.03530223\n",
      "  0.03563749 0.02827496 0.03430617 0.03153948 0.02928252 0.02654402]\n",
      " [0.04421833 0.04737918 0.04543595 0.03588227 0.05604033 0.06560146\n",
      "  0.04966502 0.04675907 0.05095469 0.05973818 0.04854712 0.0597119\n",
      "  0.04018309 0.05714447 0.05630539 0.04944624 0.04119539 0.07403057\n",
      "  0.05112488 0.05673889 0.05356921 0.05069232 0.03142992 0.0386102\n",
      "  0.04329486 0.03453266 0.03639352 0.04131384 0.03593074 0.02975977]\n",
      " [0.04174225 0.04503382 0.04239576 0.03475101 0.0532915  0.06553891\n",
      "  0.05005883 0.04454412 0.05033431 0.05900975 0.04662999 0.0606101\n",
      "  0.03592717 0.05659706 0.05436197 0.04874074 0.03784842 0.05112488\n",
      "  0.06589282 0.05550676 0.06054109 0.05145616 0.02800346 0.03739568\n",
      "  0.04063435 0.03088558 0.03578083 0.03747863 0.03297382 0.02774309]\n",
      " [0.06478815 0.05382947 0.0639897  0.04588193 0.05750643 0.08927475\n",
      "  0.0768535  0.07406121 0.05453184 0.09383067 0.08083579 0.09611237\n",
      "  0.05228793 0.08388902 0.0928644  0.07620283 0.04371188 0.05673889\n",
      "  0.05550676 0.14789846 0.06088224 0.06404153 0.03370166 0.06034\n",
      "  0.05337569 0.03666871 0.04145512 0.05752799 0.04227546 0.03189697]\n",
      " [0.04471081 0.04776316 0.04588309 0.03554698 0.05624235 0.07066094\n",
      "  0.05653138 0.04895745 0.05184274 0.06542095 0.05163749 0.06729014\n",
      "  0.03849167 0.06309544 0.05941356 0.05460022 0.0415795  0.05356921\n",
      "  0.06054109 0.06088224 0.08376282 0.0547131  0.03043328 0.03950466\n",
      "  0.04267929 0.03229347 0.0367581  0.0389258  0.03534299 0.0289989 ]\n",
      " [0.04495855 0.04626949 0.04208821 0.0405209  0.06113663 0.0737815\n",
      "  0.05369698 0.04565762 0.05191967 0.05984178 0.05096442 0.06005212\n",
      "  0.03733323 0.05499327 0.05775543 0.05169113 0.03790652 0.05069232\n",
      "  0.05145616 0.06404153 0.0547131  0.13271456 0.03877574 0.04000496\n",
      "  0.0494794  0.03823604 0.04331428 0.04252743 0.0378884  0.03017157]\n",
      " [0.02597461 0.02853465 0.02655128 0.02482339 0.0340029  0.03752371\n",
      "  0.02889252 0.02656531 0.02962771 0.03413366 0.02883707 0.03632101\n",
      "  0.02803876 0.03503467 0.03121808 0.02748793 0.02629933 0.03142992\n",
      "  0.02800346 0.03370166 0.03043328 0.03877574 0.05163056 0.02363469\n",
      "  0.02775897 0.02416145 0.0238898  0.02727181 0.02195223 0.01967174]\n",
      " [0.04004039 0.04035054 0.05229164 0.04160404 0.03840074 0.06177048\n",
      "  0.05067797 0.05030769 0.03965058 0.065483   0.05143354 0.06518233\n",
      "  0.03919177 0.05821878 0.05956505 0.05022112 0.03530223 0.0386102\n",
      "  0.03739568 0.06034    0.03950466 0.04000496 0.02363469 0.15278426\n",
      "  0.04141587 0.03228802 0.04167219 0.06332203 0.03177988 0.02473231]\n",
      " [0.03767787 0.03975332 0.03692151 0.03374217 0.0474567  0.05406071\n",
      "  0.04580761 0.03933772 0.04221385 0.0521012  0.04573094 0.0532652\n",
      "  0.04173166 0.04797055 0.05219383 0.0410323  0.03563749 0.04329486\n",
      "  0.04063435 0.05337569 0.04267929 0.0494794  0.02775897 0.04141587\n",
      "  0.08791753 0.02633406 0.0299511  0.03837686 0.03446189 0.02899844]\n",
      " [0.02945832 0.03301846 0.03035538 0.02730202 0.03730328 0.03954901\n",
      "  0.02901451 0.03046863 0.03257717 0.03558    0.02812805 0.03776267\n",
      "  0.0252127  0.03376775 0.03177512 0.02862395 0.02827496 0.03453266\n",
      "  0.03088558 0.03666871 0.03229347 0.03823604 0.02416145 0.03228802\n",
      "  0.02633406 0.07615278 0.03338461 0.02889341 0.02408375 0.02219741]\n",
      " [0.0311622  0.03596149 0.03429338 0.0338476  0.03984852 0.04740217\n",
      "  0.03490001 0.03404833 0.03709279 0.03990738 0.03163351 0.03949626\n",
      "  0.02951316 0.03899355 0.03688895 0.03529185 0.03430617 0.03639352\n",
      "  0.03578083 0.04145512 0.0367581  0.04331428 0.0238898  0.04167219\n",
      "  0.0299511  0.03338461 0.10361843 0.03771974 0.02925951 0.02625834]\n",
      " [0.04088382 0.03816307 0.04586056 0.0425617  0.04076568 0.05678766\n",
      "  0.04602079 0.04669851 0.03957231 0.06004342 0.04543751 0.05873327\n",
      "  0.03862201 0.05618669 0.05655282 0.04646498 0.03153948 0.04131384\n",
      "  0.03747863 0.05752799 0.0389258  0.04252743 0.02727181 0.06332203\n",
      "  0.03837686 0.02889341 0.03771974 0.11428753 0.03726814 0.02653137]\n",
      " [0.03132596 0.03522272 0.0330584  0.02857801 0.03811924 0.04363527\n",
      "  0.03597128 0.03341214 0.03531251 0.04299591 0.03361902 0.04444576\n",
      "  0.03297375 0.04038959 0.04150925 0.03464644 0.02928252 0.03593074\n",
      "  0.03297382 0.04227546 0.03534299 0.0378884  0.02195223 0.03177988\n",
      "  0.03446189 0.02408375 0.02925951 0.03726814 0.07152318 0.02202806]\n",
      " [0.0254269  0.02866775 0.02639316 0.02535204 0.03120115 0.03735765\n",
      "  0.02603963 0.02806481 0.03219383 0.03167764 0.02780713 0.03380979\n",
      "  0.02866335 0.03154774 0.03013975 0.02488568 0.02654402 0.02975977\n",
      "  0.02774309 0.03189697 0.0289989  0.03017157 0.01967174 0.02473231\n",
      "  0.02899844 0.02219741 0.02625834 0.02653137 0.02202806 0.04554022]]\n"
     ]
    }
   ],
   "source": [
    "# Question 2d\n",
    "\n",
    "R = 0.01\n",
    "mu_list = []\n",
    "#print(mu_annual_all)\n",
    "Sigma = np.cov(np.array(res_all)) * 250\n",
    "for i in range(len(mu_annual_all)):\n",
    "    mu_list.append(mu_annual_all[i][0])\n",
    "mu = np.array(mu_list)\n",
    "alpha_market = np.linalg.solve(Sigma,mu-R)\n",
    "alpha_market = alpha_market/np.sum(alpha_market)\n",
    "mu_market = alpha_market@mu\n",
    "std_market = (alpha_market@Sigma@alpha_market)**.5\n",
    "\n",
    "print('Mean: ',mu_market)\n",
    "print('Std: ',std_market)\n",
    "print('Sharpe ratio: ',(mu_market-R)/std_market)\n",
    "print('Weights: ')\n",
    "print(alpha_market)\n",
    "print('Sigma: ')\n",
    "print(Sigma)"
   ],
   "metadata": {
    "collapsed": false,
    "pycharm": {
     "name": "#%%\n"
    }
   }
  },
  {
   "cell_type": "code",
   "execution_count": 341,
   "outputs": [
    {
     "name": "stdout",
     "output_type": "stream",
     "text": [
      "[ 0.55931046  1.03432688 -0.68748474  0.04975794 -0.01599794  0.88334243\n",
      "  0.13360445  0.30452316  0.31544059 -0.18989038 -0.50215614  0.58064729\n",
      " -0.44440923  0.12283966 -0.41832501 -0.12627686 -0.04330817 -0.59807484\n",
      "  0.09853733 -0.14199025  0.71395406  0.68200143 -0.70964005  0.07339052\n",
      " -0.01161129 -0.35831782 -0.16265829 -0.03347387 -0.31194993  0.2038886 ]\n",
      "0.6812843382262301 1.3511347692340439 1.9685389696844917\n"
     ]
    }
   ],
   "source": [
    "#compute the market portfolio for actual returns\n",
    "R = 0.01\n",
    "mu_list = []\n",
    "for i in range(len(ret_all)):\n",
    "    mu_list.append(np.mean(ret_all[i])*250)\n",
    "mu = np.array(mu_list)\n",
    "Sigma = np.cov(np.array(ret_all)) * 250\n",
    "alpha_market = np.linalg.solve(Sigma,mu-R)\n",
    "alpha_market = alpha_market/np.sum(alpha_market)\n",
    "mu_market = alpha_market@mu\n",
    "std_market = (alpha_market@Sigma@alpha_market)**.5\n",
    "print(alpha_market)\n",
    "print(std_market,mu_market,(mu_market-R)/std_market)"
   ],
   "metadata": {
    "collapsed": false,
    "pycharm": {
     "name": "#%%\n"
    }
   }
  }
 ],
 "metadata": {
  "kernelspec": {
   "display_name": "Python 3 (ipykernel)",
   "language": "python",
   "name": "python3"
  },
  "language_info": {
   "codemirror_mode": {
    "name": "ipython",
    "version": 3
   },
   "file_extension": ".py",
   "mimetype": "text/x-python",
   "name": "python",
   "nbconvert_exporter": "python",
   "pygments_lexer": "ipython3",
   "version": "3.7.10"
  }
 },
 "nbformat": 4,
 "nbformat_minor": 2
}